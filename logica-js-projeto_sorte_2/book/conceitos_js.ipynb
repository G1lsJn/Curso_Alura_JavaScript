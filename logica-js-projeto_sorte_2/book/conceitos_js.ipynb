{
 "cells": [
  {
   "cell_type": "markdown",
   "metadata": {},
   "source": [
    "# Document"
   ]
  },
  {
   "cell_type": "markdown",
   "metadata": {},
   "source": [
    "Responsável por pegar a tag no arquivo HTML e trazer para o Js"
   ]
  },
  {
   "cell_type": "markdown",
   "metadata": {},
   "source": [
    "## document.querySelector() \n",
    "\n",
    "O comando document.querySelector() no JavaScript serve para procurar um elemento do HTML e trazê-lo para o JavaScript. A função recebe um parâmetro, um seletor CSS\n",
    "\n",
    "Exemplo:\n",
    "\n",
    "let titulo = document.querySelector('h1'); <br>\n",
    "*Vai no HTML e procura e pega a tag h1"
   ]
  },
  {
   "cell_type": "markdown",
   "metadata": {},
   "source": [
    "# InnerHTML"
   ]
  },
  {
   "cell_type": "markdown",
   "metadata": {},
   "source": [
    "\n",
    "Tradução livre: dentro do HTML do elemento referênciado \n",
    "\n",
    "O innerHTML define e retorna o conteúdo de um elemento com novo conteúdo HTML ou XML. Ao definir o valor de innerHTML, você substituirá todo o conteúdo do elemento selecionado, incluindo os filhos"
   ]
  },
  {
   "cell_type": "markdown",
   "metadata": {},
   "source": [
    "# getElementById"
   ]
  },
  {
   "cell_type": "markdown",
   "metadata": {},
   "source": [
    "Pega do HTML o elemento tendo o ID dele como referência"
   ]
  },
  {
   "cell_type": "markdown",
   "metadata": {},
   "source": [
    "## removeAttribute( )"
   ]
  },
  {
   "cell_type": "markdown",
   "metadata": {},
   "source": [
    "remove o atributo, passado dentro dos parênteses, do elemento referênciado "
   ]
  },
  {
   "cell_type": "markdown",
   "metadata": {},
   "source": [
    "## setAttribute( )"
   ]
  },
  {
   "cell_type": "markdown",
   "metadata": {},
   "source": [
    "Adiciona um novo atributo ou modifica o valor de um atributo existente num elemento específico."
   ]
  },
  {
   "cell_type": "markdown",
   "metadata": {},
   "source": [
    "# ARRAY"
   ]
  },
  {
   "cell_type": "markdown",
   "metadata": {},
   "source": [
    "## includes( )"
   ]
  },
  {
   "cell_type": "markdown",
   "metadata": {},
   "source": [
    "A função includes(elemento) verifica se o elemento dentro dos parenteses está contido em uma array referênciado retornando TRUE se sim\n",
    "\n",
    "Exemplo: \n",
    "\n",
    " // Dentro da listaDeNumerosSorteados o elemento numeroEscolhido está incluso? Se sim TRUE se não FALSE\n",
    " if (listaDeNumerosSorteados.includes(numeroEscolhido)){\n",
    "\n",
    "    }"
   ]
  },
  {
   "cell_type": "markdown",
   "metadata": {},
   "source": [
    "## push( )"
   ]
  },
  {
   "cell_type": "markdown",
   "metadata": {},
   "source": [
    "Pega o parâmetro incluido nos () e adiciona no final da lista referênciada. Semelhante ao .append em outras linguagens"
   ]
  },
  {
   "cell_type": "markdown",
   "metadata": {},
   "source": [
    "## pop( )"
   ]
  },
  {
   "cell_type": "markdown",
   "metadata": {},
   "source": [
    "Para remover o último elemento, você pode usar o método pop."
   ]
  }
 ],
 "metadata": {
  "kernelspec": {
   "display_name": "Python 3",
   "language": "python",
   "name": "python3"
  },
  "language_info": {
   "name": "python",
   "version": "3.11.8"
  }
 },
 "nbformat": 4,
 "nbformat_minor": 2
}
